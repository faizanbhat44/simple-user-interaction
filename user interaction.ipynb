{
 "cells": [
  {
   "cell_type": "code",
   "execution_count": 1,
   "metadata": {},
   "outputs": [],
   "source": [
    "game_list=[0,1,2]\n"
   ]
  },
  {
   "cell_type": "code",
   "execution_count": 2,
   "metadata": {},
   "outputs": [],
   "source": [
    "def displaygame(game_list):\n",
    "    print(\"here is current list\")\n",
    "    print(game_list)"
   ]
  },
  {
   "cell_type": "code",
   "execution_count": 3,
   "metadata": {},
   "outputs": [],
   "source": [
    "def position_choice():\n",
    "    choice=\"anything\"\n",
    "    while choice not in [\"0\",\"1\",\"2\"]:\n",
    "        choice=input(\"enter a no bw (0,1,2):\")\n",
    "        if choice not in [0,1,2]:\n",
    "            print(\"enter in the range of 0 to 2\")\n",
    "    return int(choice)"
   ]
  },
  {
   "cell_type": "code",
   "execution_count": 4,
   "metadata": {},
   "outputs": [],
   "source": [
    "def replacement_choice(game_list,position):\n",
    "    user_placement=input(\"enter a string to place at position:\")\n",
    "    game_list[position]=user_placement\n",
    "    return game_list"
   ]
  },
  {
   "cell_type": "code",
   "execution_count": 5,
   "metadata": {},
   "outputs": [],
   "source": [
    "def game_on():\n",
    "    choice=\"wrong\"\n",
    "    while choice not in [\"Y\",\"N\"]:\n",
    "        choice=input(\"keep playing,enter Y for yes and N for no:\")\n",
    "        if choice not in [\"Y\",\"N\"]:\n",
    "            print(\"sorry i dont understand\")\n",
    "    if choice==\"Y\":\n",
    "        return True\n",
    "    else:\n",
    "        return False\n",
    "        "
   ]
  },
  {
   "cell_type": "code",
   "execution_count": null,
   "metadata": {},
   "outputs": [],
   "source": [
    "game=True\n",
    "game_list=[0,1,2]\n",
    "while game:\n",
    "    displaygame(game_list)\n",
    "    position=position_choice()\n",
    "    game_list=replacement_choice(game_list,position)\n",
    "    displaygame(game_list)\n",
    "    game=game_on()"
   ]
  }
 ],
 "metadata": {
  "kernelspec": {
   "display_name": "Python 3",
   "language": "python",
   "name": "python3"
  },
  "language_info": {
   "codemirror_mode": {
    "name": "ipython",
    "version": 3
   },
   "file_extension": ".py",
   "mimetype": "text/x-python",
   "name": "python",
   "nbconvert_exporter": "python",
   "pygments_lexer": "ipython3",
   "version": "3.8.3"
  }
 },
 "nbformat": 4,
 "nbformat_minor": 4
}
